{
 "cells": [
  {
   "cell_type": "code",
   "execution_count": null,
   "metadata": {},
   "outputs": [],
   "source": []
  },
  {
   "cell_type": "code",
   "execution_count": 8,
   "metadata": {},
   "outputs": [],
   "source": [
    "%defaultDatasource jdbc:h2:mem:db"
   ]
  },
  {
   "cell_type": "markdown",
   "metadata": {},
   "source": [
    "# Carrega os dados de COVID-19"
   ]
  },
  {
   "cell_type": "code",
   "execution_count": 2,
   "metadata": {},
   "outputs": [],
   "source": [
    "DROP TABLE IF EXISTS Covid;\n",
    "\n",
    "CREATE TABLE Covid(\n",
    "    code VARCHAR(2),\n",
    "    name VARCHAR(100),\n",
    "    cases INT,\n",
    "    deaths INT,\n",
    "    recoveries INT,\n",
    "    day DATE NOT NULL\n",
    ") \n",
    "AS SELECT codigo, nome, confirmados, mortes, recuperados, data\n",
    "FROM CSVREAD('https://raw.githubusercontent.com/MatheusBulhoes/MC536-Trabalho/main/final/covid.csv')"
   ]
  },
  {
   "cell_type": "code",
   "execution_count": 3,
   "metadata": {},
   "outputs": [
    {
     "data": {
      "application/vnd.jupyter.widget-view+json": {
       "model_id": "7352829e-a70b-4d93-9aa4-7511ac32b022",
       "version_major": 2,
       "version_minor": 0
      },
      "method": "display_data"
     },
     "metadata": {},
     "output_type": "display_data"
    }
   ],
   "source": [
    "SELECT * FROM Covid;"
   ]
  },
  {
   "cell_type": "code",
   "execution_count": 4,
   "metadata": {},
   "outputs": [],
   "source": [
    "DROP TABLE IF EXISTS Weather;\n",
    "\n",
    "CREATE TABLE Weather(\n",
    "    code VARCHAR(2),\n",
    "    name VARCHAR(100),\n",
    "    averageTemp INT,\n",
    "    averagePressure INT,\n",
    "    averageHumidity INT,\n",
    "    day DATETIME NOT NULL\n",
    ")\n",
    "\n",
    "AS SELECT codigo, nome, tempmedia, pressao, umidade, data\n",
    "FROM CSVREAD('https://raw.githubusercontent.com/MatheusBulhoes/MC536-Trabalho/main/final/weather.csv')"
   ]
  },
  {
   "cell_type": "code",
   "execution_count": 5,
   "metadata": {},
   "outputs": [
    {
     "data": {
      "application/vnd.jupyter.widget-view+json": {
       "model_id": "99e17d47-e102-491f-bf22-5423ee2f879a",
       "version_major": 2,
       "version_minor": 0
      },
      "method": "display_data"
     },
     "metadata": {},
     "output_type": "display_data"
    }
   ],
   "source": [
    "SELECT * FROM Weather;"
   ]
  },
  {
   "cell_type": "code",
   "execution_count": 7,
   "metadata": {},
   "outputs": [
    {
     "data": {
      "application/vnd.jupyter.widget-view+json": {
       "model_id": "bf216f48-4412-4eb2-845e-6432aab4228a",
       "version_major": 2,
       "version_minor": 0
      },
      "method": "display_data"
     },
     "metadata": {},
     "output_type": "display_data"
    }
   ],
   "source": [
    "SELECT Covid.code, Covid.name, Covid.cases, Covid.deaths, Weather.averageTemp, Covid.day\n",
    "FROM Covid\n",
    "JOIN Weather ON Covid.day = Weather.day AND Covid.code = Weather.code;"
   ]
  },
  {
   "cell_type": "code",
   "execution_count": null,
   "metadata": {},
   "outputs": [],
   "source": []
  }
 ],
 "metadata": {
  "kernelspec": {
   "display_name": "SQL",
   "language": "SQL",
   "name": "sql"
  },
  "language_info": {
   "codemirror_mode": "sql",
   "file_extension": ".sql",
   "mimetype": "",
   "name": "SQL",
   "nbconverter_exporter": "",
   "version": ""
  },
  "toc": {
   "base_numbering": 1,
   "nav_menu": {},
   "number_sections": false,
   "sideBar": false,
   "skip_h1_title": false,
   "title_cell": "Table of Contents",
   "title_sidebar": "Contents",
   "toc_cell": false,
   "toc_position": {},
   "toc_section_display": false,
   "toc_window_display": false
  }
 },
 "nbformat": 4,
 "nbformat_minor": 4
}
